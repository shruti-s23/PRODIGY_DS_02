{
 "cells": [
  {
   "cell_type": "code",
   "execution_count": 5,
   "id": "2b636334",
   "metadata": {},
   "outputs": [],
   "source": [
    "import pandas as pd\n",
    "\n",
    "df = pd.read_csv('train.csv')\n",
    "df['Age'].fillna(df['Age'].median(), inplace=True)\n",
    "mode_embarked = df['Embarked'].mode()[0]\n",
    "df['Embarked'].fillna(mode_embarked, inplace=True)\n",
    "df.to_csv('complete.csv', index=False)"
   ]
  }
 ],
 "metadata": {
  "kernelspec": {
   "display_name": "Python 3 (ipykernel)",
   "language": "python",
   "name": "python3"
  },
  "language_info": {
   "codemirror_mode": {
    "name": "ipython",
    "version": 3
   },
   "file_extension": ".py",
   "mimetype": "text/x-python",
   "name": "python",
   "nbconvert_exporter": "python",
   "pygments_lexer": "ipython3",
   "version": "3.11.5"
  }
 },
 "nbformat": 4,
 "nbformat_minor": 5
}
